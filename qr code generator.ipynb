{
 "cells": [
  {
   "cell_type": "code",
   "execution_count": 1,
   "id": "ddf27f61",
   "metadata": {},
   "outputs": [
    {
     "name": "stdout",
     "output_type": "stream",
     "text": [
      "Requirement already satisfied: qrcode in c:\\users\\prakh\\appdata\\local\\programs\\python\\python310\\lib\\site-packages (7.3.1)\n",
      "Requirement already satisfied: colorama in c:\\users\\prakh\\appdata\\local\\programs\\python\\python310\\lib\\site-packages (from qrcode) (0.4.5)\n",
      "Note: you may need to restart the kernel to use updated packages.\n"
     ]
    },
    {
     "name": "stderr",
     "output_type": "stream",
     "text": [
      "\n",
      "[notice] A new release of pip available: 22.2.2 -> 23.0.1\n",
      "[notice] To update, run: python.exe -m pip install --upgrade pip\n"
     ]
    }
   ],
   "source": [
    "pip install qrcode"
   ]
  },
  {
   "cell_type": "code",
   "execution_count": 2,
   "id": "386410d0",
   "metadata": {},
   "outputs": [
    {
     "name": "stdout",
     "output_type": "stream",
     "text": [
      "Requirement already satisfied: tk in c:\\users\\prakh\\appdata\\local\\programs\\python\\python310\\lib\\site-packages (0.1.0)\n",
      "Note: you may need to restart the kernel to use updated packages.\n"
     ]
    },
    {
     "name": "stderr",
     "output_type": "stream",
     "text": [
      "\n",
      "[notice] A new release of pip available: 22.2.2 -> 23.0.1\n",
      "[notice] To update, run: python.exe -m pip install --upgrade pip\n"
     ]
    }
   ],
   "source": [
    "pip install tk"
   ]
  },
  {
   "cell_type": "code",
   "execution_count": 3,
   "id": "7ed9171b",
   "metadata": {},
   "outputs": [],
   "source": [
    "import qrcode\n",
    "from tkinter import *\n",
    "cp = Tk()\n",
    "cp.title('qrcodegenerator.com')\n",
    "cp.geometry('700x250')\n",
    "cp.config(bg='#e52165')"
   ]
  },
  {
   "cell_type": "code",
   "execution_count": 4,
   "id": "b9e1ac79",
   "metadata": {},
   "outputs": [],
   "source": [
    "def generate():\n",
    "    img = qrcode.make(msg.get())\n",
    "\n",
    "    type(img)\n",
    "    img.save(f'{save_name.get()}.png')\n",
    "    Label(cp, text='File Saved!', bg='#e52165', fg='black', font=('Arial Black', 8)).pack()\n",
    "\n",
    "def show():\n",
    "    img = qrcode.make(msg.get())\n",
    "    type(img)\n",
    "    img.show()\n"
   ]
  },
  {
   "cell_type": "code",
   "execution_count": 5,
   "id": "922f8f15",
   "metadata": {},
   "outputs": [],
   "source": [
    "frame = Frame(cp, bg='#e52165')\n",
    "frame.pack(expand=True)\n",
    "Label(frame, text='Enter the Text or URL : ', font=('Arial Black', 16),\n",
    "      bg='#e52165').grid(row=0, column=0, sticky='w')\n",
    "msg = Entry(frame)\n",
    "msg.grid(row=0, column=1)\n",
    "#------------------ENTER THE FILE NAME------------------\n",
    "\n",
    "Label(frame, text='File Name(Save As) : ', font=('Arial Black', 16),\n",
    "      bg='#e52165').grid(row=1, column=0, sticky='w')\n",
    "save_name = Entry(frame)\n",
    "save_name.grid(row=1, column=1)\n",
    "#------------------BUTTONS TO SHOW OR SAVE QRCODE------------------\n",
    "\n",
    "btn = Button(cp, text='Show QR code', bd='5', command=show, width=15)\n",
    "btn.pack()\n",
    "btn = Button(cp, text='Save QR code', command=generate, bd='5', width=15)\n",
    "btn.pack()"
   ]
  },
  {
   "cell_type": "code",
   "execution_count": 6,
   "id": "088ed4f8",
   "metadata": {},
   "outputs": [],
   "source": [
    "cp.mainloop()"
   ]
  }
 ],
 "metadata": {
  "kernelspec": {
   "display_name": "Python 3 (ipykernel)",
   "language": "python",
   "name": "python3"
  },
  "language_info": {
   "codemirror_mode": {
    "name": "ipython",
    "version": 3
   },
   "file_extension": ".py",
   "mimetype": "text/x-python",
   "name": "python",
   "nbconvert_exporter": "python",
   "pygments_lexer": "ipython3",
   "version": "3.10.7"
  }
 },
 "nbformat": 4,
 "nbformat_minor": 5
}
